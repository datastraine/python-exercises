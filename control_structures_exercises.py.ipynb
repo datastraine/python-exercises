{
 "cells": [
  {
   "cell_type": "markdown",
   "metadata": {},
   "source": [
    "# Conditional Basics"
   ]
  },
  {
   "cell_type": "markdown",
   "metadata": {},
   "source": [
    "### **A)** \n",
    "Prompt the user for a day of the week, print out whether the day is Monday or not"
   ]
  },
  {
   "cell_type": "code",
   "execution_count": 1,
   "metadata": {},
   "outputs": [
    {
     "name": "stdout",
     "output_type": "stream",
     "text": [
      "Day of the week? - monday\n",
      "It is Monday!\n"
     ]
    }
   ],
   "source": [
    "is_day = input(\"Day of the week? - \")\n",
    "if is_day.lower() == \"monday\":\n",
    "    print('It is Monday!')\n",
    "else:\n",
    "    print('It is not Monday')"
   ]
  },
  {
   "cell_type": "markdown",
   "metadata": {},
   "source": [
    "### **B)** \n",
    "Prompt the user for a day of the week, print out whether the day is a weekday or a weekend\n"
   ]
  },
  {
   "cell_type": "code",
   "execution_count": 2,
   "metadata": {},
   "outputs": [
    {
     "name": "stdout",
     "output_type": "stream",
     "text": [
      "Day of the week (type out the full name)? - monday\n",
      "Choosen day is not part of the weekend\n"
     ]
    }
   ],
   "source": [
    "is_day = input(\"Day of the week (type out the full name)? - \")\n",
    "if is_day.lower() == 'saturday' or is_day.lower() == 'sunday':\n",
    "    print('Choosen day is part of the weekned')\n",
    "else:\n",
    "    print(\"Choosen day is not part of the weekend\")"
   ]
  },
  {
   "cell_type": "code",
   "execution_count": 3,
   "metadata": {},
   "outputs": [
    {
     "name": "stdout",
     "output_type": "stream",
     "text": [
      "Day of the week (type out the full day name)? - monday\n",
      "Choosen day is not part of the weekend\n"
     ]
    }
   ],
   "source": [
    "# make a list of the days of the week\n",
    "days_of_week = ['monday', 'tuesday', 'wednesday', 'thursday', 'friday', 'saturday', 'sunday']\n",
    "\n",
    "#create a a user input for day look up\n",
    "is_day = input(\"Day of the week (type out the full day name)? - \").lower()\n",
    "\n",
    "#create if in function to check if the user input is in days_of_week\n",
    "if is_day in days_of_week:\n",
    "    #if return true then check if the day is a weekend or week day\n",
    "    if is_day == 'saturday' or is_day == 'sunday':\n",
    "        print('Choosen day is part of the weekend') \n",
    "    else: \n",
    "        print (\"Choosen day is not part of the weekend\")\n",
    "# if user input is not a day of the week\n",
    "else:\n",
    "    print(\"You didn't pick a day of the week\")"
   ]
  },
  {
   "cell_type": "markdown",
   "metadata": {},
   "source": [
    "### C)\n",
    "Create variables and make up values for:\n",
    "- the number of hours worked in one week\n",
    "- the hourly rate\n",
    "- how much the week's paycheck will be\n",
    "\n",
    "Write the python code that calculates the weekly paycheck. You get paid time and a half if you work more than 40 hours"
   ]
  },
  {
   "cell_type": "code",
   "execution_count": 4,
   "metadata": {},
   "outputs": [
    {
     "name": "stdout",
     "output_type": "stream",
     "text": [
      "You worked 63 hours.\n",
      "You were paid 42 an hour.\n",
      "You worked 23 hours of overtime\n",
      "You'll be paid 3129.0 for the week\n"
     ]
    }
   ],
   "source": [
    "# generate random integer values\n",
    "from random import seed\n",
    "from random import randint\n",
    "# seed random number generator\n",
    "# generate some integers\n",
    "\n",
    "for N in range(1):\n",
    "    Hours = randint(30, 70)\n",
    "    print(f\"You worked {Hours} hours.\")\n",
    "\n",
    "for n in range(1):\n",
    "    Rate = randint(26, 48)\n",
    "    print(f\"You were paid {Rate} an hour.\")\n",
    "\n",
    "\n",
    "if Hours <= 40:\n",
    "    Pay = Rate * Hours\n",
    "    print(\"You worked 0 overtime hours\")\n",
    "    print(f\"You'll be paid {Pay} for the week\")\n",
    "elif Hours > 40:\n",
    "    OTPay = Rate * 40 + (Rate * 1.5 * (Hours - 40))\n",
    "    print(f\"You worked {Hours - 40} hours of overtime\")\n",
    "    print(f\"You'll be paid {OTPay} for the week\")"
   ]
  },
  {
   "cell_type": "markdown",
   "metadata": {},
   "source": [
    "# Loop Basics"
   ]
  },
  {
   "cell_type": "markdown",
   "metadata": {},
   "source": [
    "### While\n",
    "\n",
    "* Create an integer variable i with a value of 5.\n",
    "* Create a while loop that runs so long as i is less than or equal to 15\n",
    "* Each loop iteration, output the current value of i, then increment i by one."
   ]
  },
  {
   "cell_type": "code",
   "execution_count": 5,
   "metadata": {},
   "outputs": [
    {
     "name": "stdout",
     "output_type": "stream",
     "text": [
      "5\n",
      "6\n",
      "7\n",
      "8\n",
      "9\n",
      "10\n",
      "11\n",
      "12\n",
      "13\n",
      "14\n",
      "15\n"
     ]
    }
   ],
   "source": [
    "i = 5\n",
    "while i <= 15:\n",
    "    print(i)\n",
    "    i += 1"
   ]
  },
  {
   "cell_type": "markdown",
   "metadata": {},
   "source": [
    "* Create a while loop that will count by 2's starting with 0 and ending at 100. Follow each number with a new line.\n"
   ]
  },
  {
   "cell_type": "code",
   "execution_count": 6,
   "metadata": {
    "scrolled": true
   },
   "outputs": [
    {
     "name": "stdout",
     "output_type": "stream",
     "text": [
      "0\n",
      "2\n",
      "4\n",
      "6\n",
      "8\n",
      "10\n",
      "12\n",
      "14\n",
      "16\n",
      "18\n",
      "20\n",
      "22\n",
      "24\n",
      "26\n",
      "28\n",
      "30\n",
      "32\n",
      "34\n",
      "36\n",
      "38\n",
      "40\n",
      "42\n",
      "44\n",
      "46\n",
      "48\n",
      "50\n",
      "52\n",
      "54\n",
      "56\n",
      "58\n",
      "60\n",
      "62\n",
      "64\n",
      "66\n",
      "68\n",
      "70\n",
      "72\n",
      "74\n",
      "76\n",
      "78\n",
      "80\n",
      "82\n",
      "84\n",
      "86\n",
      "88\n",
      "90\n",
      "92\n",
      "94\n",
      "96\n",
      "98\n",
      "100\n"
     ]
    }
   ],
   "source": [
    "i = 0 \n",
    "while i <= 100:\n",
    "    print(i)\n",
    "    i += 2"
   ]
  },
  {
   "cell_type": "markdown",
   "metadata": {},
   "source": [
    "* Alter your loop to count backwards by 5's from 100 to -10."
   ]
  },
  {
   "cell_type": "code",
   "execution_count": 7,
   "metadata": {},
   "outputs": [
    {
     "name": "stdout",
     "output_type": "stream",
     "text": [
      "100\n",
      "95\n",
      "90\n",
      "85\n",
      "80\n",
      "75\n",
      "70\n",
      "65\n",
      "60\n",
      "55\n",
      "50\n",
      "45\n",
      "40\n",
      "35\n",
      "30\n",
      "25\n",
      "20\n",
      "15\n",
      "10\n",
      "5\n",
      "0\n",
      "-5\n",
      "-10\n"
     ]
    }
   ],
   "source": [
    "i = 100\n",
    "while i >= -10:\n",
    "    print(i)\n",
    "    i -= 5"
   ]
  },
  {
   "cell_type": "markdown",
   "metadata": {},
   "source": [
    "* Create a while loop that starts at 2, and displays the number squared on each line while the number is less than 1,000,000."
   ]
  },
  {
   "cell_type": "code",
   "execution_count": 8,
   "metadata": {},
   "outputs": [
    {
     "name": "stdout",
     "output_type": "stream",
     "text": [
      "2\n",
      "4\n",
      "16\n",
      "256\n",
      "65536\n"
     ]
    }
   ],
   "source": [
    "i = 2\n",
    "while i < 1_000_000:\n",
    "    print(i)\n",
    "    i *= i"
   ]
  },
  {
   "cell_type": "markdown",
   "metadata": {},
   "source": [
    "* Write a loop that uses print to create the following output:\n",
    "<br>100\n",
    "<br>95\n",
    "<br>90\n",
    "<br>85\n",
    "<br>80\n",
    "<br>75\n",
    "<br>70\n",
    "<br>65\n",
    "<br>60\n",
    "<br>55\n",
    "<br>50\n",
    "<br>45\n",
    "<br>40\n",
    "<br>35\n",
    "<br>30\n",
    "<br>25\n",
    "<br>20\n",
    "<br>15\n",
    "<br>10\n",
    "<br>5"
   ]
  },
  {
   "cell_type": "code",
   "execution_count": 9,
   "metadata": {},
   "outputs": [
    {
     "name": "stdout",
     "output_type": "stream",
     "text": [
      "100\n",
      "95\n",
      "90\n",
      "85\n",
      "80\n",
      "75\n",
      "70\n",
      "65\n",
      "60\n",
      "55\n",
      "50\n",
      "45\n",
      "40\n",
      "35\n",
      "30\n",
      "25\n",
      "20\n",
      "15\n",
      "10\n",
      "5\n"
     ]
    }
   ],
   "source": [
    "i = 100\n",
    "while i >= 5:\n",
    "    print(i)\n",
    "    i -=5"
   ]
  },
  {
   "cell_type": "markdown",
   "metadata": {},
   "source": [
    "### For Loops\n"
   ]
  },
  {
   "cell_type": "markdown",
   "metadata": {},
   "source": [
    "* Write some code that prompts the user for a number, then shows a multiplication table up through 10 for that number."
   ]
  },
  {
   "cell_type": "code",
   "execution_count": 10,
   "metadata": {},
   "outputs": [
    {
     "name": "stdout",
     "output_type": "stream",
     "text": [
      "Pick a number - 6\n",
      "6 x 1 = 6\n",
      "6 x 2 = 12\n",
      "6 x 3 = 18\n",
      "6 x 4 = 24\n",
      "6 x 5 = 30\n",
      "6 x 6 = 36\n",
      "6 x 7 = 42\n",
      "6 x 8 = 48\n",
      "6 x 9 = 54\n",
      "6 x 10 = 60\n"
     ]
    }
   ],
   "source": [
    "is_number = int(input(\"Pick a number - \"))\n",
    "for n in range(1, 11):\n",
    "    print(f\"{is_number} x {n} = {is_number * n}\")\n",
    "    "
   ]
  },
  {
   "cell_type": "markdown",
   "metadata": {},
   "source": [
    "* Create a for loop that uses print to create the output shown below."
   ]
  },
  {
   "cell_type": "code",
   "execution_count": 11,
   "metadata": {},
   "outputs": [
    {
     "name": "stdout",
     "output_type": "stream",
     "text": [
      "1\n",
      "22\n",
      "333\n",
      "4444\n",
      "55555\n",
      "666666\n",
      "7777777\n",
      "88888888\n",
      "999999999\n"
     ]
    }
   ],
   "source": [
    "for n in range(1, 10):\n",
    "    print(str(n) * n)   "
   ]
  },
  {
   "cell_type": "markdown",
   "metadata": {},
   "source": [
    "### break and continue"
   ]
  },
  {
   "cell_type": "markdown",
   "metadata": {},
   "source": [
    "* Prompt the user for an odd number between 1 and 50. \n",
    "* Use a loop and a break statement to continue prompting the user if they enter invalid input. (Hint: use the isdigit method on strings to determine this). \n",
    "* Use a loop and the continue statement to output all the odd numbers between 1 and 50, except for the number the user entered."
   ]
  },
  {
   "cell_type": "code",
   "execution_count": 12,
   "metadata": {},
   "outputs": [
    {
     "name": "stdout",
     "output_type": "stream",
     "text": [
      "Pick and odd number from 1 - 50 - 5\n",
      "Number to skip is 5 \n",
      "\n",
      "Here is an odd number: 1\n",
      "Here is an odd number: 3\n",
      "Yikes! Skipping number: 5\n",
      "Here is an odd number: 7\n",
      "Here is an odd number: 9\n",
      "Here is an odd number: 11\n",
      "Here is an odd number: 13\n",
      "Here is an odd number: 15\n",
      "Here is an odd number: 17\n",
      "Here is an odd number: 19\n",
      "Here is an odd number: 21\n",
      "Here is an odd number: 23\n",
      "Here is an odd number: 25\n",
      "Here is an odd number: 27\n",
      "Here is an odd number: 29\n",
      "Here is an odd number: 31\n",
      "Here is an odd number: 33\n",
      "Here is an odd number: 35\n",
      "Here is an odd number: 37\n",
      "Here is an odd number: 39\n",
      "Here is an odd number: 41\n",
      "Here is an odd number: 43\n",
      "Here is an odd number: 45\n",
      "Here is an odd number: 47\n",
      "Here is an odd number: 49\n"
     ]
    }
   ],
   "source": [
    "while True:\n",
    "    picked_odd = input(\"Pick and odd number from 1 - 50 - \")\n",
    "    if picked_odd.isdigit() and int(picked_odd) % 2 != 0 and int(picked_odd) in range(1,51):\n",
    "        break\n",
    "print(f\"Number to skip is {picked_odd} \\n\")\n",
    "\n",
    "picked_odd = int(picked_odd)\n",
    "for n in range(50):\n",
    "    if n % 2 == 0:\n",
    "        continue\n",
    "        \n",
    "    if n == picked_odd: \n",
    "        print(f\"Yikes! Skipping number: {n}\")\n",
    "        continue\n",
    "        \n",
    "    print(f'Here is an odd number: {n}')"
   ]
  },
  {
   "cell_type": "markdown",
   "metadata": {},
   "source": [
    "* Prompt the user to enter a positive number and write a loop that counts from 0 to that number."
   ]
  },
  {
   "cell_type": "code",
   "execution_count": 13,
   "metadata": {},
   "outputs": [
    {
     "name": "stdout",
     "output_type": "stream",
     "text": [
      "Count from 0 to 4\n",
      "\n",
      "0\n",
      "1\n",
      "2\n",
      "3\n",
      "4\n"
     ]
    }
   ],
   "source": [
    "while True:\n",
    "    picked_number = input(\"Count from 0 to \")\n",
    "    if picked_number.isdigit() and int(picked_number) > 0:\n",
    "        break \n",
    "print(\"\")\n",
    "picked_number = int(picked_number)\n",
    "\n",
    "for n in range (picked_number + 1):\n",
    "    print(n)\n",
    "    n =+ 1"
   ]
  },
  {
   "cell_type": "code",
   "execution_count": 14,
   "metadata": {},
   "outputs": [
    {
     "name": "stdout",
     "output_type": "stream",
     "text": [
      "Count to 1 from 3\n",
      "\n",
      "3\n",
      "2\n",
      "1\n"
     ]
    }
   ],
   "source": [
    "while True:\n",
    "    picked_number = input(\"Count to 1 from \")\n",
    "    if picked_number.isdigit() and int(picked_number) > 0:\n",
    "        break\n",
    "print(\"\")\n",
    "picked_number = int(picked_number)\n",
    "\n",
    "while picked_number >= 1:\n",
    "    print(picked_number)\n",
    "    picked_number -= 1"
   ]
  },
  {
   "cell_type": "markdown",
   "metadata": {},
   "source": [
    "# Fizzbuzz\n",
    "\n",
    "One of the most common interview questions for entry-level programmers is the FizzBuzz test. Developed by Imran Ghory, the test is designed to test basic looping and conditional logic skills.\n",
    "\n",
    "* Write a program that prints the numbers from 1 to 100.\n",
    "* For multiples of three print \"Fizz\" instead of the number\n",
    "* For the multiples of five print \"Buzz\".\n",
    "* For numbers which are multiples of both three and five print \"FizzBuzz\"."
   ]
  },
  {
   "cell_type": "code",
   "execution_count": 15,
   "metadata": {},
   "outputs": [
    {
     "name": "stdout",
     "output_type": "stream",
     "text": [
      "1\n",
      "2\n",
      "Fizz\n",
      "4\n",
      "Buzz\n",
      "5\n",
      "Fizz\n",
      "7\n",
      "8\n",
      "Fizz\n",
      "Buzz\n",
      "10\n",
      "11\n",
      "Fizz\n",
      "13\n",
      "14\n",
      "FizzBuzz\n",
      "16\n",
      "17\n",
      "Fizz\n",
      "19\n",
      "Buzz\n",
      "20\n",
      "Fizz\n",
      "22\n",
      "23\n",
      "Fizz\n",
      "Buzz\n",
      "25\n",
      "26\n",
      "Fizz\n",
      "28\n",
      "29\n",
      "FizzBuzz\n",
      "31\n",
      "32\n",
      "Fizz\n",
      "34\n",
      "Buzz\n",
      "35\n",
      "Fizz\n",
      "37\n",
      "38\n",
      "Fizz\n",
      "Buzz\n",
      "40\n",
      "41\n",
      "Fizz\n",
      "43\n",
      "44\n",
      "FizzBuzz\n",
      "46\n",
      "47\n",
      "Fizz\n",
      "49\n",
      "Buzz\n",
      "50\n",
      "Fizz\n",
      "52\n",
      "53\n",
      "Fizz\n",
      "Buzz\n",
      "55\n",
      "56\n",
      "Fizz\n",
      "58\n",
      "59\n",
      "FizzBuzz\n",
      "61\n",
      "62\n",
      "Fizz\n",
      "64\n",
      "Buzz\n",
      "65\n",
      "Fizz\n",
      "67\n",
      "68\n",
      "Fizz\n",
      "Buzz\n",
      "70\n",
      "71\n",
      "Fizz\n",
      "73\n",
      "74\n",
      "FizzBuzz\n",
      "76\n",
      "77\n",
      "Fizz\n",
      "79\n",
      "Buzz\n",
      "80\n",
      "Fizz\n",
      "82\n",
      "83\n",
      "Fizz\n",
      "Buzz\n",
      "85\n",
      "86\n",
      "Fizz\n",
      "88\n",
      "89\n",
      "FizzBuzz\n",
      "91\n",
      "92\n",
      "Fizz\n",
      "94\n",
      "Buzz\n",
      "95\n",
      "Fizz\n",
      "97\n",
      "98\n",
      "Fizz\n",
      "Buzz\n",
      "100\n"
     ]
    }
   ],
   "source": [
    "for n in range (1, 101):\n",
    "    if n % 3 == 0 and n % 5 == 0:\n",
    "        print(\"FizzBuzz\")\n",
    "        continue\n",
    "    if n % 3 == 0:\n",
    "        print (\"Fizz\")\n",
    "        continue\n",
    "    if n % 5 == 0:\n",
    "        print(\"Buzz\")\n",
    "    print(n)\n",
    "    n += 1"
   ]
  },
  {
   "cell_type": "markdown",
   "metadata": {},
   "source": [
    "### Display a table of powers.\n",
    "\n",
    "* Prompt the user to enter an integer.\n",
    "* Display a table of squares and cubes from 1 to the value entered.\n",
    "* Ask if the user wants to continue.\n",
    "* Assume that the user will enter valid data.\n",
    "* Only continue if the user agrees to."
   ]
  },
  {
   "cell_type": "code",
   "execution_count": 16,
   "metadata": {},
   "outputs": [
    {
     "name": "stdout",
     "output_type": "stream",
     "text": [
      "Pick a number - 4\n",
      "[1, 1, 1]\n",
      "Would you like to continue (y/n) - n\n"
     ]
    }
   ],
   "source": [
    "# If we want the user to continue after each iteration\n",
    "while True: \n",
    "    picked_number = input(\"Pick a number - \")\n",
    "    if picked_number.isdigit() and int(picked_number):\n",
    "        break\n",
    "    print(\"\")\n",
    "    \n",
    "picked_number = int(picked_number)\n",
    "for n in range (1, picked_number + 1):\n",
    "    powers = [n] + [n*n] + [n*n*n]\n",
    "    print(powers)\n",
    "    if input(\"Would you like to continue (y/n) - \").lower() != 'y':\n",
    "        break"
   ]
  },
  {
   "cell_type": "code",
   "execution_count": 17,
   "metadata": {
    "scrolled": true
   },
   "outputs": [
    {
     "name": "stdout",
     "output_type": "stream",
     "text": [
      "What number would you like to go up to? - 5\n",
      "number      |squared     |cubed       \n",
      "--------------------------------------\n",
      "1           |1           |1           \n",
      "2           |4           |8           \n",
      "3           |9           |27          \n",
      "4           |16          |64          \n",
      "5           |25          |125         \n",
      "Would you like to continue (y?) - n\n",
      "End!\n"
     ]
    }
   ],
   "source": [
    "# If we want the users to be able to enter another number after the first\n",
    "number = []\n",
    "squared = []\n",
    "cubed = []\n",
    "names = ['number', 'squared', 'cubed']\n",
    "\n",
    "while True:\n",
    "    while True:\n",
    "        picked_number = input(\"What number would you like to go up to? - \")\n",
    "        if picked_number.isdigit():\n",
    "            picked_number = int(picked_number)\n",
    "            break\n",
    "        \n",
    "    for n in range (1, picked_number + 1):\n",
    "        number.append(n)\n",
    "        squared.append(n**2)\n",
    "        cubed.append(n**3)\n",
    "    data = [names] + list(zip(number, squared, cubed))\n",
    "    for i, d in enumerate(data):\n",
    "        line = '|'.join(str(x).ljust(12) for x in d)\n",
    "        print(line)\n",
    "        if i == 0:\n",
    "            print('-' * len(line))\n",
    "\n",
    "    keep_going = input(\"Would you like to continue (y?) - \")\n",
    "    if keep_going.lower() != 'y':\n",
    "        print(\"End!\")\n",
    "        break\n",
    "    else:  \n",
    "        print(\"\\n Continue! \\n\")\n",
    "        continue\n",
    "\n",
    "    "
   ]
  },
  {
   "cell_type": "markdown",
   "metadata": {},
   "source": [
    "### Convert given number grades into letter grades.\n",
    "\n",
    "* Prompt the user for a numerical grade from 0 to 100.\n",
    "* Display the corresponding letter grade.\n",
    "* Prompt the user to continue.\n",
    "* Assume that the user will enter valid integers for the grades.\n",
    "* The application should only continue if the user agrees to.\n",
    "* Grade Ranges:\n",
    "  1. A : 100 - 88\n",
    "  2. B : 87 - 80\n",
    "  3. C : 79 - 67\n",
    "  4. D : 66 - 60\n",
    "  5. F : 59 - 0"
   ]
  },
  {
   "cell_type": "code",
   "execution_count": 193,
   "metadata": {},
   "outputs": [
    {
     "name": "stdout",
     "output_type": "stream",
     "text": [
      "What percentage did the student get - 80\n",
      "The student recieved a B-\n",
      "The grading scale came from: \n",
      " https://pages.collegeboard.org/how-to-convert-gpa-4.0-scale\n",
      "Would you like to continue (y/n?) - y\n",
      "\n",
      " Continue! \n",
      "\n",
      "What percentage did the student get - 70\n",
      "The student recieved a C-\n",
      "The grading scale came from: \n",
      " https://pages.collegeboard.org/how-to-convert-gpa-4.0-scale\n",
      "Would you like to continue (y/n?) - n\n",
      "End!\n"
     ]
    }
   ],
   "source": [
    "# Create a function that evaluates if a given value can convert to a float or not. \n",
    "# This allows grades float decimal grades to be evaluated\n",
    "def isfloat(somevalue):\n",
    "    try:\n",
    "        float(somevalue)\n",
    "        return True\n",
    "    except ValueError:\n",
    "        return False\n",
    "    \n",
    "# Contain the entire function in a while True loop to allow for repeat evaluations \n",
    "while True:\n",
    "\n",
    "# create inner while True loop in order to evalaute whether a given input meets the requirements    \n",
    "    while True:\n",
    "        grade_percentage = input(\"What percentage did the student get - \")\n",
    "        if isfloat(grade_percentage) == True and float(grade_percentage) >= 0 and float(grade_percentage) <= 100:\n",
    "            grade_percentage = float(grade_percentage)\n",
    "            break\n",
    "# Assign each percentage break down to a letter grade\n",
    "    if grade_percentage <= 100 and grade_percentage >= 97:\n",
    "        grade = 'A+'\n",
    "    elif grade_percentage < 97 and grade_percentage >= 93:\n",
    "        grade = 'A'\n",
    "    elif grade_percentage < 93 and grade_percentage >= 90:\n",
    "        grade = 'A-'\n",
    "    elif grade_percentage < 90 and grade_percentage >= 87:\n",
    "        grade = 'B+'\n",
    "    elif grade_percentage < 87 and grade_percentage >= 83:\n",
    "        grade = 'B'\n",
    "    elif grade_percentage < 83 and grade_percentage >= 80:\n",
    "        grade = 'B-'\n",
    "    elif grade_percentage < 80 and grade_percentage >= 77:\n",
    "        grade = 'C+'\n",
    "    elif grade_percentage < 77 and grade_percentage >= 73:\n",
    "        grade = 'C'\n",
    "    elif grade_percentage < 73 and grade_percentage >= 70:\n",
    "        grade = 'C-'\n",
    "    elif grade_percentage < 70 and grade_percentage >= 67:\n",
    "        grade = 'D+'\n",
    "    elif grade_percentage < 67 and grade_percentage >= 65:\n",
    "        grade = 'D'\n",
    "    else:\n",
    "        grade = 'F'\n",
    "   # Print result with an an if the student recieved any A grade \n",
    "    if grade_percentage >= 90:\n",
    "        print(f\"The student recieved an {grade}\")\n",
    "   \n",
    "   # Else print with an a \n",
    "    if grade_percentage < 90:\n",
    "        print(f\"The student recieved a {grade}\")\n",
    "    \n",
    "    print(\"The grading scale came from: \\n https://pages.collegeboard.org/how-to-convert-gpa-4.0-scale\")\n",
    "    # Ask the user if they would like to keep doing evaluations\n",
    "    while True:\n",
    "        keep_going = input(\"Would you like to continue (y/n?) - \")\n",
    "        if keep_going == 'n' or keep_going == 'y':\n",
    "            break\n",
    "        else:\n",
    "            print(\"Invalid Input! Try Agin!!\")\n",
    "        # If they put in anything other than a y end program\n",
    "    if keep_going.lower() == 'n':\n",
    "        print(\"End!\")\n",
    "        break\n",
    "    # Else continue\n",
    "    else:  \n",
    "        print(\"\\n Continue! \\n\")\n",
    "        continue"
   ]
  },
  {
   "cell_type": "markdown",
   "metadata": {},
   "source": [
    "### 6\n",
    "Create a list of dictionaries where each dictionary represents a book that you have read. Each dictionary in the list should have the keys:\n",
    "- title\n",
    "- author\n",
    "- genre"
   ]
  },
  {
   "cell_type": "code",
   "execution_count": 41,
   "metadata": {},
   "outputs": [],
   "source": [
    "my_books = [{\"title\":\"Freakonomics\",\n",
    "             \"author\":\"Stephen J. Dubner and Steven Levitt\",\n",
    "            \"genre\": \"Non-Fiction\"},\n",
    "            \n",
    "            {\"title\":\"Why Nations Fail\",\n",
    "             \"author\":\"Daron Acemoglu and James A. Robinson\",\n",
    "             \"genre\":\"Non-Fiction\"\n",
    "            },\n",
    "            \n",
    "            {\"title\":\"On A Pale Horse\",\n",
    "             \"author\":\"Piers Anthony\",\n",
    "             \"genre\":\"Fantasy\"\n",
    "            }, \n",
    "            \n",
    "            {\"title\":\"The Apprentice Adept\",\n",
    "             \"author\":\"Piers Anthony\",\n",
    "             \"genre\":\"Fantasy\"\n",
    "            }, \n",
    "            \n",
    "            {\"title\":\"The Vampire Lestat\",\n",
    "             \"author\":\"Ann Rice\",\n",
    "             \"genre\":\"Horror\"\n",
    "            },\n",
    "           \n",
    "            {\"title\":\"Sawn Song\",\n",
    "             \"author\":\"Robert R. McCammon\",\n",
    "             \"genre\":\"Horror\"\n",
    "            }, \n",
    "           \n",
    "            {\"title\":\"Furies of Calderon\",\n",
    "             \"author\":\"Jim Butcher\",\n",
    "             \"genre\":\"Fantasy\"\n",
    "            }, \n",
    "            \n",
    "            {\"title\":\"The Regulators\",\n",
    "             \"author\":\"Richard Bachman, Stephen King\",\n",
    "             \"genre\":\"Horror\"\n",
    "            },\n",
    "           \n",
    "            {\"title\":\"On World Order\",\n",
    "             \"author\":\"Henry Kissinger\",\n",
    "             \"genre\":\"Non-Fiction\"\n",
    "            },  \n",
    "           \n",
    "            {\"title\":\"A Breach in the Watershed\",\n",
    "             \"author\":\"Douglas Niles\",\n",
    "             \"genre\":\"Fantasy\"}\n",
    "           ]"
   ]
  },
  {
   "cell_type": "markdown",
   "metadata": {},
   "source": [
    "* Loop through the list and print out information about each book."
   ]
  },
  {
   "cell_type": "code",
   "execution_count": 42,
   "metadata": {},
   "outputs": [
    {
     "name": "stdout",
     "output_type": "stream",
     "text": [
      "{'title': 'Freakonomics', 'author': 'Stephen J. Dubner and Steven Levitt', 'genre': 'Non-Fiction'}\n",
      "{'title': 'Why Nations Fail', 'author': 'Daron Acemoglu and James A. Robinson', 'genre': 'Non-Fiction'}\n",
      "{'title': 'On A Pale Horse', 'author': 'Piers Anthony', 'genre': 'Fantasy'}\n",
      "{'title': 'The Apprentice Adept', 'author': 'Piers Anthony', 'genre': 'Fantasy'}\n",
      "{'title': 'The Vampire Lestat', 'author': 'Ann Rice', 'genre': 'Horror'}\n",
      "{'title': 'Sawn Song', 'author': 'Robert R. McCammon', 'genre': 'Horror'}\n",
      "{'title': 'Furies of Calderon', 'author': 'Jim Butcher', 'genre': 'Fantasy'}\n",
      "{'title': 'The Regulators', 'author': 'Richard Bachman, Stephen King', 'genre': 'Horror'}\n",
      "{'title': 'On World Order', 'author': 'Henry Kissinger', 'genre': 'Non-Fiction'}\n",
      "{'title': 'A Breach in the Watershed', 'author': 'Douglas Niles', 'genre': 'Fantasy'}\n"
     ]
    }
   ],
   "source": [
    "for book in my_books:\n",
    "    print(book)\n",
    "my_genres = [book['genre'] for book in my_books]\n",
    "my_genres = list(set(my_genres))\n"
   ]
  },
  {
   "cell_type": "markdown",
   "metadata": {},
   "source": [
    "* Prompt the user to enter a genre, then loop through your books list and print out the titles of all the books in that genre."
   ]
  },
  {
   "cell_type": "code",
   "execution_count": 65,
   "metadata": {},
   "outputs": [
    {
     "name": "stdout",
     "output_type": "stream",
     "text": [
      "Search my books. Pick a genre - non-fiction\n",
      "\n",
      "Freakonomics\n",
      "Why Nations Fail\n",
      "On World Order\n",
      "Those are the Non-Fiction books I've read. Would you like to search again? (y/n?) - n\n",
      "\n",
      " You stopped searching my libary\n"
     ]
    }
   ],
   "source": [
    "try_again = ()\n",
    "\n",
    "\n",
    "while True:\n",
    "    if try_again == 'n':\n",
    "        break\n",
    "    genre = input(\"Search my books. Pick a genre - \") \n",
    "    print(\"\")\n",
    "    genre = genre.capitalize()\n",
    "    if genre == 'Non-fiction':\n",
    "        genre = genre.replace('f', 'F')\n",
    "    if genre in my_genres:\n",
    "        for book in my_books:\n",
    "            if genre in book[\"genre\"]:\n",
    "                print(book[\"title\"])  \n",
    "        try_again = input(f\"Those are the {genre} books I've read. Would you like to search again? (y/n?) - \")\n",
    "        continue\n",
    "    else:\n",
    "        while True:\n",
    "            try_again = input(f\"I don't read {genre} books. Try again? (y/n?)- \")\n",
    "            if try_again == 'y' or try_again == 'n':\n",
    "                break\n",
    "            else:\n",
    "                print(\"Invalid entry!\")\n",
    "\n",
    "print(\"\\n You stopped searching my libary\")"
   ]
  },
  {
   "cell_type": "code",
   "execution_count": null,
   "metadata": {},
   "outputs": [],
   "source": []
  }
 ],
 "metadata": {
  "kernelspec": {
   "display_name": "Python 3",
   "language": "python",
   "name": "python3"
  },
  "language_info": {
   "codemirror_mode": {
    "name": "ipython",
    "version": 3
   },
   "file_extension": ".py",
   "mimetype": "text/x-python",
   "name": "python",
   "nbconvert_exporter": "python",
   "pygments_lexer": "ipython3",
   "version": "3.7.6"
  }
 },
 "nbformat": 4,
 "nbformat_minor": 4
}
