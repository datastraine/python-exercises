{
 "cells": [
  {
   "cell_type": "markdown",
   "metadata": {},
   "source": [
    "# Conditional Basics"
   ]
  },
  {
   "cell_type": "markdown",
   "metadata": {},
   "source": [
    "### **A)** \n",
    "Prompt the user for a day of the week, print out whether the day is Monday or not"
   ]
  },
  {
   "cell_type": "code",
   "execution_count": 6,
   "metadata": {},
   "outputs": [
    {
     "name": "stdout",
     "output_type": "stream",
     "text": [
      "Day of the week? - Monday\n",
      "It is Monday!\n"
     ]
    }
   ],
   "source": [
    "is_day = input(\"Day of the week? - \")\n",
    "if is_day.lower() == \"monday\":\n",
    "    print('It is Monday!')\n",
    "else:\n",
    "    print('It is not Monday')"
   ]
  },
  {
   "cell_type": "markdown",
   "metadata": {},
   "source": [
    "### **B)** \n",
    "Prompt the user for a day of the week, print out whether the day is a weekday or a weekend\n"
   ]
  },
  {
   "cell_type": "code",
   "execution_count": null,
   "metadata": {},
   "outputs": [],
   "source": []
  },
  {
   "cell_type": "code",
   "execution_count": 83,
   "metadata": {},
   "outputs": [
    {
     "name": "stdout",
     "output_type": "stream",
     "text": [
      "Day of the week? - monday\n",
      "Choosen day is not part of the weekend\n"
     ]
    }
   ],
   "source": [
    "is_day = input(\"Day of the week? - \")\n",
    "if is_day.lower() == 'saturday' or is_day.lower() == 'sunday':\n",
    "    print('Choosen day is part of the weekned')\n",
    "else:\n",
    "    print(\"Choosen day is not part of the weekend\")\n",
    "\n",
    "# days_of_week = ['Monday', 'Tuesday', 'Wednesday', 'Thursday', 'Friday', 'Saturday', 'Sunday']\n",
    "# I want to be able to check and see if the what is typed in a day of the week as well"
   ]
  },
  {
   "cell_type": "markdown",
   "metadata": {},
   "source": [
    "### C)\n",
    "Create variables and make up values for:\n",
    "- the number of hours worked in one week\n",
    "- the hourly rate\n",
    "- how much the week's paycheck will be\n",
    "\n",
    "Write the python code that calculates the weekly paycheck. You get paid time and a half if you work more than 40 hours"
   ]
  },
  {
   "cell_type": "code",
   "execution_count": 77,
   "metadata": {},
   "outputs": [
    {
     "name": "stdout",
     "output_type": "stream",
     "text": [
      "You worked 61 hours.\n",
      "You were paid 42 an hour.\n",
      "You worked 21 hours of overtime\n",
      "You'll be paid 3003.0 for the week\n"
     ]
    }
   ],
   "source": [
    "# generate random integer values\n",
    "from random import seed\n",
    "from random import randint\n",
    "# seed random number generator\n",
    "# generate some integers\n",
    "\n",
    "for N in range(1):\n",
    "    Hours = randint(30, 70)\n",
    "    print(f\"You worked {Hours} hours.\")\n",
    "\n",
    "for n in range(1):\n",
    "    Rate = randint(26, 48)\n",
    "    print(f\"You were paid {Rate} an hour.\")\n",
    "\n",
    "\n",
    "if Hours <= 40:\n",
    "    Pay = Rate * Hours\n",
    "    print(\"You worked 0 overtime hours\")\n",
    "    print(f\"You'll be paid {Pay} for the week\")\n",
    "elif Hours > 40:\n",
    "    OTPay = Rate * 40 + (Rate * 1.5 * (Hours - 40))\n",
    "    print(f\"You worked {Hours - 40} hours of overtime\")\n",
    "    print(f\"You'll be paid {OTPay} for the week\")"
   ]
  },
  {
   "cell_type": "code",
   "execution_count": null,
   "metadata": {},
   "outputs": [],
   "source": []
  }
 ],
 "metadata": {
  "kernelspec": {
   "display_name": "Python 3",
   "language": "python",
   "name": "python3"
  },
  "language_info": {
   "codemirror_mode": {
    "name": "ipython",
    "version": 3
   },
   "file_extension": ".py",
   "mimetype": "text/x-python",
   "name": "python",
   "nbconvert_exporter": "python",
   "pygments_lexer": "ipython3",
   "version": "3.7.6"
  }
 },
 "nbformat": 4,
 "nbformat_minor": 4
}
